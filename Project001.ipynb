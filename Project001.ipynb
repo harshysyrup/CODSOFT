{
  "nbformat": 4,
  "nbformat_minor": 0,
  "metadata": {
    "colab": {
      "provenance": [],
      "toc_visible": true,
      "authorship_tag": "ABX9TyNS+Ax2R4iNSubMt4hKROz6",
      "include_colab_link": true
    },
    "kernelspec": {
      "name": "python3",
      "display_name": "Python 3"
    },
    "language_info": {
      "name": "python"
    }
  },
  "cells": [
    {
      "cell_type": "markdown",
      "metadata": {
        "id": "view-in-github",
        "colab_type": "text"
      },
      "source": [
        "<a href=\"https://colab.research.google.com/github/harshysyrup/CODSOFT/blob/main/Project001.ipynb\" target=\"_parent\"><img src=\"https://colab.research.google.com/assets/colab-badge.svg\" alt=\"Open In Colab\"/></a>"
      ]
    },
    {
      "cell_type": "markdown",
      "source": [
        "#**TASK-1:MOVIE RATING PREDICTION**\n",
        "\n",
        "Author: Harsh Surana\n",
        "\n",
        "Batch:April\n",
        "\n",
        "Domain:Data Science\n",
        "\n",
        "Aim: Build a model taht predicts the rating of a movie based on features like genere,director and actors."
      ],
      "metadata": {
        "id": "-anxXuBpwe_3"
      }
    },
    {
      "cell_type": "markdown",
      "source": [],
      "metadata": {
        "id": "NXdgGG8ZwRfB"
      }
    },
    {
      "cell_type": "code",
      "source": [
        "import pandas as pd\n",
        "import matplotlib.pyplot as plt\n",
        "import numpy as np\n",
        "import seaborn as sns\n",
        "from sklearn.model_selection import train_test_split\n",
        "from sklearn.linear_model import LogisticRegression\n",
        "from sklearn.svm import SVC, LinearSVC\n",
        "from sklearn.ensemble import RandomForestClassifier\n",
        "from sklearn.neighbors import KNeighborsClassifier\n",
        "from sklearn.naive_bayes import GaussianNB\n",
        "from sklearn.linear_model import Perceptron\n",
        "from sklearn.linear_model import SGDClassifier\n",
        "from sklearn.tree import DecisionTreeClassifier\n",
        "from sklearn.ensemble import RandomForestRegressor\n",
        "from sklearn.preprocessing import OneHotEncoder\n",
        "from sklearn.compose import ColumnTransformer\n",
        "from sklearn.pipeline import Pipeline\n",
        "from sklearn.impute import SimpleImputer\n",
        "from sklearn.ensemble import GradientBoostingRegressor\n",
        "from sklearn.linear_model import LinearRegression\n",
        "from sklearn.metrics import mean_absolute_error\n",
        "from sklearn.model_selection import GridSearchCV\n",
        "import seaborn as sns"
      ],
      "metadata": {
        "id": "CJimWGaSwf_w"
      },
      "execution_count": null,
      "outputs": []
    },
    {
      "cell_type": "code",
      "source": [
        "from google.colab import drive\n",
        "drive.mount('/content/drive')"
      ],
      "metadata": {
        "colab": {
          "base_uri": "https://localhost:8080/"
        },
        "id": "TOVMFhKawjtI",
        "outputId": "af91b8db-abb7-49c1-b9b5-f6eb2fc03860"
      },
      "execution_count": null,
      "outputs": [
        {
          "output_type": "stream",
          "name": "stdout",
          "text": [
            "Drive already mounted at /content/drive; to attempt to forcibly remount, call drive.mount(\"/content/drive\", force_remount=True).\n"
          ]
        }
      ]
    },
    {
      "cell_type": "code",
      "source": [
        "read_data = pd.read_csv('/content/drive/MyDrive/IMDb Movies India.csv', encoding='latin1', sep=',', engine='python')\n",
        "read_data.columns = ['Name', 'Year', 'Duration', 'Genre', 'Rating', 'Votes', 'Director', 'Actor 1', 'Actor 2','Actor 3']\n",
        "read_data.dropna(inplace=True)\n",
        "read_data.head()"
      ],
      "metadata": {
        "colab": {
          "base_uri": "https://localhost:8080/",
          "height": 293
        },
        "id": "02ifOVi8wjm2",
        "outputId": "ed1ca68d-a811-4119-ef00-dabb6af28809"
      },
      "execution_count": null,
      "outputs": [
        {
          "output_type": "execute_result",
          "data": {
            "text/plain": [
              "                                 Name    Year Duration  \\\n",
              "1  #Gadhvi (He thought he was Gandhi)  (2019)  109 min   \n",
              "3                             #Yaaram  (2019)  110 min   \n",
              "5                ...Aur Pyaar Ho Gaya  (1997)  147 min   \n",
              "6                           ...Yahaan  (2005)  142 min   \n",
              "8                  ?: A Question Mark  (2012)   82 min   \n",
              "\n",
              "                       Genre  Rating  Votes        Director          Actor 1  \\\n",
              "1                      Drama     7.0      8   Gaurav Bakshi     Rasika Dugal   \n",
              "3            Comedy, Romance     4.4     35      Ovais Khan          Prateik   \n",
              "5     Comedy, Drama, Musical     4.7    827    Rahul Rawail       Bobby Deol   \n",
              "6        Drama, Romance, War     7.4  1,086  Shoojit Sircar  Jimmy Sheirgill   \n",
              "8  Horror, Mystery, Thriller     5.6    326   Allyson Patel        Yash Dave   \n",
              "\n",
              "                  Actor 2          Actor 3  \n",
              "1          Vivek Ghamande    Arvind Jangid  \n",
              "3              Ishita Raj  Siddhant Kapoor  \n",
              "5  Aishwarya Rai Bachchan    Shammi Kapoor  \n",
              "6          Minissha Lamba   Yashpal Sharma  \n",
              "8          Muntazir Ahmad     Kiran Bhatia  "
            ],
            "text/html": [
              "\n",
              "  <div id=\"df-c321abcb-5190-4fd4-a606-d89983ecfe62\" class=\"colab-df-container\">\n",
              "    <div>\n",
              "<style scoped>\n",
              "    .dataframe tbody tr th:only-of-type {\n",
              "        vertical-align: middle;\n",
              "    }\n",
              "\n",
              "    .dataframe tbody tr th {\n",
              "        vertical-align: top;\n",
              "    }\n",
              "\n",
              "    .dataframe thead th {\n",
              "        text-align: right;\n",
              "    }\n",
              "</style>\n",
              "<table border=\"1\" class=\"dataframe\">\n",
              "  <thead>\n",
              "    <tr style=\"text-align: right;\">\n",
              "      <th></th>\n",
              "      <th>Name</th>\n",
              "      <th>Year</th>\n",
              "      <th>Duration</th>\n",
              "      <th>Genre</th>\n",
              "      <th>Rating</th>\n",
              "      <th>Votes</th>\n",
              "      <th>Director</th>\n",
              "      <th>Actor 1</th>\n",
              "      <th>Actor 2</th>\n",
              "      <th>Actor 3</th>\n",
              "    </tr>\n",
              "  </thead>\n",
              "  <tbody>\n",
              "    <tr>\n",
              "      <th>1</th>\n",
              "      <td>#Gadhvi (He thought he was Gandhi)</td>\n",
              "      <td>(2019)</td>\n",
              "      <td>109 min</td>\n",
              "      <td>Drama</td>\n",
              "      <td>7.0</td>\n",
              "      <td>8</td>\n",
              "      <td>Gaurav Bakshi</td>\n",
              "      <td>Rasika Dugal</td>\n",
              "      <td>Vivek Ghamande</td>\n",
              "      <td>Arvind Jangid</td>\n",
              "    </tr>\n",
              "    <tr>\n",
              "      <th>3</th>\n",
              "      <td>#Yaaram</td>\n",
              "      <td>(2019)</td>\n",
              "      <td>110 min</td>\n",
              "      <td>Comedy, Romance</td>\n",
              "      <td>4.4</td>\n",
              "      <td>35</td>\n",
              "      <td>Ovais Khan</td>\n",
              "      <td>Prateik</td>\n",
              "      <td>Ishita Raj</td>\n",
              "      <td>Siddhant Kapoor</td>\n",
              "    </tr>\n",
              "    <tr>\n",
              "      <th>5</th>\n",
              "      <td>...Aur Pyaar Ho Gaya</td>\n",
              "      <td>(1997)</td>\n",
              "      <td>147 min</td>\n",
              "      <td>Comedy, Drama, Musical</td>\n",
              "      <td>4.7</td>\n",
              "      <td>827</td>\n",
              "      <td>Rahul Rawail</td>\n",
              "      <td>Bobby Deol</td>\n",
              "      <td>Aishwarya Rai Bachchan</td>\n",
              "      <td>Shammi Kapoor</td>\n",
              "    </tr>\n",
              "    <tr>\n",
              "      <th>6</th>\n",
              "      <td>...Yahaan</td>\n",
              "      <td>(2005)</td>\n",
              "      <td>142 min</td>\n",
              "      <td>Drama, Romance, War</td>\n",
              "      <td>7.4</td>\n",
              "      <td>1,086</td>\n",
              "      <td>Shoojit Sircar</td>\n",
              "      <td>Jimmy Sheirgill</td>\n",
              "      <td>Minissha Lamba</td>\n",
              "      <td>Yashpal Sharma</td>\n",
              "    </tr>\n",
              "    <tr>\n",
              "      <th>8</th>\n",
              "      <td>?: A Question Mark</td>\n",
              "      <td>(2012)</td>\n",
              "      <td>82 min</td>\n",
              "      <td>Horror, Mystery, Thriller</td>\n",
              "      <td>5.6</td>\n",
              "      <td>326</td>\n",
              "      <td>Allyson Patel</td>\n",
              "      <td>Yash Dave</td>\n",
              "      <td>Muntazir Ahmad</td>\n",
              "      <td>Kiran Bhatia</td>\n",
              "    </tr>\n",
              "  </tbody>\n",
              "</table>\n",
              "</div>\n",
              "    <div class=\"colab-df-buttons\">\n",
              "\n",
              "  <div class=\"colab-df-container\">\n",
              "    <button class=\"colab-df-convert\" onclick=\"convertToInteractive('df-c321abcb-5190-4fd4-a606-d89983ecfe62')\"\n",
              "            title=\"Convert this dataframe to an interactive table.\"\n",
              "            style=\"display:none;\">\n",
              "\n",
              "  <svg xmlns=\"http://www.w3.org/2000/svg\" height=\"24px\" viewBox=\"0 -960 960 960\">\n",
              "    <path d=\"M120-120v-720h720v720H120Zm60-500h600v-160H180v160Zm220 220h160v-160H400v160Zm0 220h160v-160H400v160ZM180-400h160v-160H180v160Zm440 0h160v-160H620v160ZM180-180h160v-160H180v160Zm440 0h160v-160H620v160Z\"/>\n",
              "  </svg>\n",
              "    </button>\n",
              "\n",
              "  <style>\n",
              "    .colab-df-container {\n",
              "      display:flex;\n",
              "      gap: 12px;\n",
              "    }\n",
              "\n",
              "    .colab-df-convert {\n",
              "      background-color: #E8F0FE;\n",
              "      border: none;\n",
              "      border-radius: 50%;\n",
              "      cursor: pointer;\n",
              "      display: none;\n",
              "      fill: #1967D2;\n",
              "      height: 32px;\n",
              "      padding: 0 0 0 0;\n",
              "      width: 32px;\n",
              "    }\n",
              "\n",
              "    .colab-df-convert:hover {\n",
              "      background-color: #E2EBFA;\n",
              "      box-shadow: 0px 1px 2px rgba(60, 64, 67, 0.3), 0px 1px 3px 1px rgba(60, 64, 67, 0.15);\n",
              "      fill: #174EA6;\n",
              "    }\n",
              "\n",
              "    .colab-df-buttons div {\n",
              "      margin-bottom: 4px;\n",
              "    }\n",
              "\n",
              "    [theme=dark] .colab-df-convert {\n",
              "      background-color: #3B4455;\n",
              "      fill: #D2E3FC;\n",
              "    }\n",
              "\n",
              "    [theme=dark] .colab-df-convert:hover {\n",
              "      background-color: #434B5C;\n",
              "      box-shadow: 0px 1px 3px 1px rgba(0, 0, 0, 0.15);\n",
              "      filter: drop-shadow(0px 1px 2px rgba(0, 0, 0, 0.3));\n",
              "      fill: #FFFFFF;\n",
              "    }\n",
              "  </style>\n",
              "\n",
              "    <script>\n",
              "      const buttonEl =\n",
              "        document.querySelector('#df-c321abcb-5190-4fd4-a606-d89983ecfe62 button.colab-df-convert');\n",
              "      buttonEl.style.display =\n",
              "        google.colab.kernel.accessAllowed ? 'block' : 'none';\n",
              "\n",
              "      async function convertToInteractive(key) {\n",
              "        const element = document.querySelector('#df-c321abcb-5190-4fd4-a606-d89983ecfe62');\n",
              "        const dataTable =\n",
              "          await google.colab.kernel.invokeFunction('convertToInteractive',\n",
              "                                                    [key], {});\n",
              "        if (!dataTable) return;\n",
              "\n",
              "        const docLinkHtml = 'Like what you see? Visit the ' +\n",
              "          '<a target=\"_blank\" href=https://colab.research.google.com/notebooks/data_table.ipynb>data table notebook</a>'\n",
              "          + ' to learn more about interactive tables.';\n",
              "        element.innerHTML = '';\n",
              "        dataTable['output_type'] = 'display_data';\n",
              "        await google.colab.output.renderOutput(dataTable, element);\n",
              "        const docLink = document.createElement('div');\n",
              "        docLink.innerHTML = docLinkHtml;\n",
              "        element.appendChild(docLink);\n",
              "      }\n",
              "    </script>\n",
              "  </div>\n",
              "\n",
              "\n",
              "<div id=\"df-41e645a4-cab9-4976-9812-cb286f7cbd3b\">\n",
              "  <button class=\"colab-df-quickchart\" onclick=\"quickchart('df-41e645a4-cab9-4976-9812-cb286f7cbd3b')\"\n",
              "            title=\"Suggest charts\"\n",
              "            style=\"display:none;\">\n",
              "\n",
              "<svg xmlns=\"http://www.w3.org/2000/svg\" height=\"24px\"viewBox=\"0 0 24 24\"\n",
              "     width=\"24px\">\n",
              "    <g>\n",
              "        <path d=\"M19 3H5c-1.1 0-2 .9-2 2v14c0 1.1.9 2 2 2h14c1.1 0 2-.9 2-2V5c0-1.1-.9-2-2-2zM9 17H7v-7h2v7zm4 0h-2V7h2v10zm4 0h-2v-4h2v4z\"/>\n",
              "    </g>\n",
              "</svg>\n",
              "  </button>\n",
              "\n",
              "<style>\n",
              "  .colab-df-quickchart {\n",
              "      --bg-color: #E8F0FE;\n",
              "      --fill-color: #1967D2;\n",
              "      --hover-bg-color: #E2EBFA;\n",
              "      --hover-fill-color: #174EA6;\n",
              "      --disabled-fill-color: #AAA;\n",
              "      --disabled-bg-color: #DDD;\n",
              "  }\n",
              "\n",
              "  [theme=dark] .colab-df-quickchart {\n",
              "      --bg-color: #3B4455;\n",
              "      --fill-color: #D2E3FC;\n",
              "      --hover-bg-color: #434B5C;\n",
              "      --hover-fill-color: #FFFFFF;\n",
              "      --disabled-bg-color: #3B4455;\n",
              "      --disabled-fill-color: #666;\n",
              "  }\n",
              "\n",
              "  .colab-df-quickchart {\n",
              "    background-color: var(--bg-color);\n",
              "    border: none;\n",
              "    border-radius: 50%;\n",
              "    cursor: pointer;\n",
              "    display: none;\n",
              "    fill: var(--fill-color);\n",
              "    height: 32px;\n",
              "    padding: 0;\n",
              "    width: 32px;\n",
              "  }\n",
              "\n",
              "  .colab-df-quickchart:hover {\n",
              "    background-color: var(--hover-bg-color);\n",
              "    box-shadow: 0 1px 2px rgba(60, 64, 67, 0.3), 0 1px 3px 1px rgba(60, 64, 67, 0.15);\n",
              "    fill: var(--button-hover-fill-color);\n",
              "  }\n",
              "\n",
              "  .colab-df-quickchart-complete:disabled,\n",
              "  .colab-df-quickchart-complete:disabled:hover {\n",
              "    background-color: var(--disabled-bg-color);\n",
              "    fill: var(--disabled-fill-color);\n",
              "    box-shadow: none;\n",
              "  }\n",
              "\n",
              "  .colab-df-spinner {\n",
              "    border: 2px solid var(--fill-color);\n",
              "    border-color: transparent;\n",
              "    border-bottom-color: var(--fill-color);\n",
              "    animation:\n",
              "      spin 1s steps(1) infinite;\n",
              "  }\n",
              "\n",
              "  @keyframes spin {\n",
              "    0% {\n",
              "      border-color: transparent;\n",
              "      border-bottom-color: var(--fill-color);\n",
              "      border-left-color: var(--fill-color);\n",
              "    }\n",
              "    20% {\n",
              "      border-color: transparent;\n",
              "      border-left-color: var(--fill-color);\n",
              "      border-top-color: var(--fill-color);\n",
              "    }\n",
              "    30% {\n",
              "      border-color: transparent;\n",
              "      border-left-color: var(--fill-color);\n",
              "      border-top-color: var(--fill-color);\n",
              "      border-right-color: var(--fill-color);\n",
              "    }\n",
              "    40% {\n",
              "      border-color: transparent;\n",
              "      border-right-color: var(--fill-color);\n",
              "      border-top-color: var(--fill-color);\n",
              "    }\n",
              "    60% {\n",
              "      border-color: transparent;\n",
              "      border-right-color: var(--fill-color);\n",
              "    }\n",
              "    80% {\n",
              "      border-color: transparent;\n",
              "      border-right-color: var(--fill-color);\n",
              "      border-bottom-color: var(--fill-color);\n",
              "    }\n",
              "    90% {\n",
              "      border-color: transparent;\n",
              "      border-bottom-color: var(--fill-color);\n",
              "    }\n",
              "  }\n",
              "</style>\n",
              "\n",
              "  <script>\n",
              "    async function quickchart(key) {\n",
              "      const quickchartButtonEl =\n",
              "        document.querySelector('#' + key + ' button');\n",
              "      quickchartButtonEl.disabled = true;  // To prevent multiple clicks.\n",
              "      quickchartButtonEl.classList.add('colab-df-spinner');\n",
              "      try {\n",
              "        const charts = await google.colab.kernel.invokeFunction(\n",
              "            'suggestCharts', [key], {});\n",
              "      } catch (error) {\n",
              "        console.error('Error during call to suggestCharts:', error);\n",
              "      }\n",
              "      quickchartButtonEl.classList.remove('colab-df-spinner');\n",
              "      quickchartButtonEl.classList.add('colab-df-quickchart-complete');\n",
              "    }\n",
              "    (() => {\n",
              "      let quickchartButtonEl =\n",
              "        document.querySelector('#df-41e645a4-cab9-4976-9812-cb286f7cbd3b button');\n",
              "      quickchartButtonEl.style.display =\n",
              "        google.colab.kernel.accessAllowed ? 'block' : 'none';\n",
              "    })();\n",
              "  </script>\n",
              "</div>\n",
              "\n",
              "    </div>\n",
              "  </div>\n"
            ],
            "application/vnd.google.colaboratory.intrinsic+json": {
              "type": "dataframe",
              "variable_name": "read_data",
              "summary": "{\n  \"name\": \"read_data\",\n  \"rows\": 5659,\n  \"fields\": [\n    {\n      \"column\": \"Name\",\n      \"properties\": {\n        \"dtype\": \"string\",\n        \"num_unique_values\": 5385,\n        \"samples\": [\n          \"Railway Raju\",\n          \"Gambeeram\",\n          \"Hai Golmaal in White House\"\n        ],\n        \"semantic_type\": \"\",\n        \"description\": \"\"\n      }\n    },\n    {\n      \"column\": \"Year\",\n      \"properties\": {\n        \"dtype\": \"category\",\n        \"num_unique_values\": 91,\n        \"samples\": [\n          \"(1990)\",\n          \"(1974)\",\n          \"(1970)\"\n        ],\n        \"semantic_type\": \"\",\n        \"description\": \"\"\n      }\n    },\n    {\n      \"column\": \"Duration\",\n      \"properties\": {\n        \"dtype\": \"category\",\n        \"num_unique_values\": 174,\n        \"samples\": [\n          \"197 min\",\n          \"247 min\",\n          \"86 min\"\n        ],\n        \"semantic_type\": \"\",\n        \"description\": \"\"\n      }\n    },\n    {\n      \"column\": \"Genre\",\n      \"properties\": {\n        \"dtype\": \"category\",\n        \"num_unique_values\": 376,\n        \"samples\": [\n          \"Action, Romance, Drama\",\n          \"Comedy, Musical, Mystery\",\n          \"Musical, Comedy, Romance\"\n        ],\n        \"semantic_type\": \"\",\n        \"description\": \"\"\n      }\n    },\n    {\n      \"column\": \"Rating\",\n      \"properties\": {\n        \"dtype\": \"number\",\n        \"std\": 1.381165141663233,\n        \"min\": 1.1,\n        \"max\": 10.0,\n        \"num_unique_values\": 83,\n        \"samples\": [\n          8.4,\n          7.0,\n          5.5\n        ],\n        \"semantic_type\": \"\",\n        \"description\": \"\"\n      }\n    },\n    {\n      \"column\": \"Votes\",\n      \"properties\": {\n        \"dtype\": \"category\",\n        \"num_unique_values\": 2027,\n        \"samples\": [\n          \"2,534\",\n          \"8,372\",\n          \"21,773\"\n        ],\n        \"semantic_type\": \"\",\n        \"description\": \"\"\n      }\n    },\n    {\n      \"column\": \"Director\",\n      \"properties\": {\n        \"dtype\": \"category\",\n        \"num_unique_values\": 2431,\n        \"samples\": [\n          \"Paresh Vinodray Savani\",\n          \"Ramesh Saigal\",\n          \"Omung Kumar\"\n        ],\n        \"semantic_type\": \"\",\n        \"description\": \"\"\n      }\n    },\n    {\n      \"column\": \"Actor 1\",\n      \"properties\": {\n        \"dtype\": \"category\",\n        \"num_unique_values\": 1960,\n        \"samples\": [\n          \"Mohan Kapur\",\n          \"Samir Aftab\",\n          \"Riya Deepsi\"\n        ],\n        \"semantic_type\": \"\",\n        \"description\": \"\"\n      }\n    },\n    {\n      \"column\": \"Actor 2\",\n      \"properties\": {\n        \"dtype\": \"category\",\n        \"num_unique_values\": 2321,\n        \"samples\": [\n          \"Arjun Fauzdar\",\n          \"Tara Deshpande\",\n          \"Saurabh Shukla\"\n        ],\n        \"semantic_type\": \"\",\n        \"description\": \"\"\n      }\n    },\n    {\n      \"column\": \"Actor 3\",\n      \"properties\": {\n        \"dtype\": \"category\",\n        \"num_unique_values\": 2556,\n        \"samples\": [\n          \"Reema Sen\",\n          \"Nitya Shetty\",\n          \"Siddharth\"\n        ],\n        \"semantic_type\": \"\",\n        \"description\": \"\"\n      }\n    }\n  ]\n}"
            }
          },
          "metadata": {},
          "execution_count": 43
        }
      ]
    },
    {
      "cell_type": "code",
      "source": [
        "missing_values = read_data.isnull().sum()\n",
        "print(\"Missing values:\\n\", missing_values)\n",
        "\n",
        "# Decide how to handle missing values\n",
        "# If there are only a few missing values, you can impute them with mean, median, or mode\n",
        "# If there are many missing values in a column, consider removing the column or using advanced imputation techniques"
      ],
      "metadata": {
        "colab": {
          "base_uri": "https://localhost:8080/"
        },
        "id": "L-LGp9NJy7vg",
        "outputId": "f8ff91c3-6317-4b41-ebbf-25b3028212e8"
      },
      "execution_count": null,
      "outputs": [
        {
          "output_type": "stream",
          "name": "stdout",
          "text": [
            "Missing values:\n",
            " Name        0\n",
            "Year        0\n",
            "Duration    0\n",
            "Genre       0\n",
            "Rating      0\n",
            "Votes       0\n",
            "Director    0\n",
            "Actor 1     0\n",
            "Actor 2     0\n",
            "Actor 3     0\n",
            "dtype: int64\n"
          ]
        }
      ]
    },
    {
      "cell_type": "code",
      "source": [
        "\n",
        "genre_split = read_data['Genre'].str.split(', ', expand=True)\n",
        "\n",
        "genre_split.columns = [f'Genre_{i+1}' for i in range(genre_split.shape[1])]\n",
        "\n",
        "read_data_with_genres = pd.concat([read_data, genre_split], axis=1)\n",
        "\n",
        "read_data_with_genres.drop(columns=['Genre'], inplace=True)\n",
        "\n",
        "\n",
        "print(read_data_with_genres)\n"
      ],
      "metadata": {
        "colab": {
          "base_uri": "https://localhost:8080/"
        },
        "id": "tXSbAOma1BcU",
        "outputId": "02f7eaf5-e6e5-452e-ab8e-987328bc228c"
      },
      "execution_count": null,
      "outputs": [
        {
          "output_type": "stream",
          "name": "stdout",
          "text": [
            "                                     Name    Year Duration  Rating  Votes  \\\n",
            "1      #Gadhvi (He thought he was Gandhi)  (2019)  109 min     7.0      8   \n",
            "3                                 #Yaaram  (2019)  110 min     4.4     35   \n",
            "5                    ...Aur Pyaar Ho Gaya  (1997)  147 min     4.7    827   \n",
            "6                               ...Yahaan  (2005)  142 min     7.4  1,086   \n",
            "8                      ?: A Question Mark  (2012)   82 min     5.6    326   \n",
            "...                                   ...     ...      ...     ...    ...   \n",
            "15493                              Zubaan  (2015)  115 min     6.1    408   \n",
            "15494                            Zubeidaa  (2001)  153 min     6.2  1,496   \n",
            "15503                     Zulm Ki Zanjeer  (1989)  125 min     5.8     44   \n",
            "15505                               Zulmi  (1999)  129 min     4.5    655   \n",
            "15508                        Zulm-O-Sitam  (1998)  130 min     6.2     20   \n",
            "\n",
            "              Director          Actor 1                 Actor 2  \\\n",
            "1        Gaurav Bakshi     Rasika Dugal          Vivek Ghamande   \n",
            "3           Ovais Khan          Prateik              Ishita Raj   \n",
            "5         Rahul Rawail       Bobby Deol  Aishwarya Rai Bachchan   \n",
            "6       Shoojit Sircar  Jimmy Sheirgill          Minissha Lamba   \n",
            "8        Allyson Patel        Yash Dave          Muntazir Ahmad   \n",
            "...                ...              ...                     ...   \n",
            "15493      Mozez Singh    Vicky Kaushal         Sarah Jane Dias   \n",
            "15494    Shyam Benegal   Karisma Kapoor                   Rekha   \n",
            "15503  S.P. Muthuraman      Chiranjeevi              Jayamalini   \n",
            "15505       Kuku Kohli     Akshay Kumar          Twinkle Khanna   \n",
            "15508     K.C. Bokadia       Dharmendra              Jaya Prada   \n",
            "\n",
            "                Actor 3    Genre_1  Genre_2   Genre_3  \n",
            "1         Arvind Jangid      Drama     None      None  \n",
            "3       Siddhant Kapoor     Comedy  Romance      None  \n",
            "5         Shammi Kapoor     Comedy    Drama   Musical  \n",
            "6        Yashpal Sharma      Drama  Romance       War  \n",
            "8          Kiran Bhatia     Horror  Mystery  Thriller  \n",
            "...                 ...        ...      ...       ...  \n",
            "15493  Raaghavv Chanana      Drama     None      None  \n",
            "15494    Manoj Bajpayee  Biography    Drama   History  \n",
            "15503       Rajinikanth     Action    Crime     Drama  \n",
            "15505       Aruna Irani     Action    Drama      None  \n",
            "15508       Arjun Sarja     Action    Drama      None  \n",
            "\n",
            "[5659 rows x 12 columns]\n"
          ]
        }
      ]
    },
    {
      "cell_type": "code",
      "source": [
        "from sklearn.preprocessing import LabelEncoder\n",
        "\n",
        "\n",
        "label_encoder = LabelEncoder()\n",
        "\n",
        "\n",
        "read_data_with_genres.fillna('0', inplace=True)\n",
        "read_data_with_genres.replace('None', '0', inplace=True)\n",
        "\n",
        "\n",
        "read_data_with_genres['Genre_1'] = label_encoder.fit_transform(read_data_with_genres['Genre_1'].astype(str))\n",
        "read_data_with_genres['Genre_2'] = label_encoder.fit_transform(read_data_with_genres['Genre_2'].astype(str))\n",
        "read_data_with_genres['Genre_3'] = label_encoder.fit_transform(read_data_with_genres['Genre_3'].astype(str))\n",
        "read_data_with_genres['Director'] = label_encoder.fit_transform(read_data_with_genres['Director'].astype(str))\n",
        "read_data_with_genres['Actor 1'] = label_encoder.fit_transform(read_data_with_genres['Actor 1'].astype(str))\n",
        "read_data_with_genres['Actor 2'] = label_encoder.fit_transform(read_data_with_genres['Actor 2'].astype(str))\n",
        "read_data_with_genres['Actor 3'] = label_encoder.fit_transform(read_data_with_genres['Actor 3'].astype(str))\n",
        "read_data_with_genres['Name'] = label_encoder.fit_transform(read_data_with_genres['Name'].astype(str))\n",
        "\n",
        "\n",
        "print(read_data_with_genres)\n"
      ],
      "metadata": {
        "colab": {
          "base_uri": "https://localhost:8080/"
        },
        "id": "TYEkUIKI7kNd",
        "outputId": "bf4bbf68-16b4-4547-bf8e-c23a6036b49b"
      },
      "execution_count": null,
      "outputs": [
        {
          "output_type": "stream",
          "name": "stdout",
          "text": [
            "       Name    Year Duration  Rating  Votes  Director  Actor 1  Actor 2  \\\n",
            "1         0  (2019)  109 min     7.0      8       629     1352     2272   \n",
            "3         1  (2019)  110 min     4.4     35      1335     1198      719   \n",
            "5         3  (1997)  147 min     4.7    827      1530      378       75   \n",
            "6         4  (2005)  142 min     7.4  1,086      2044      692     1112   \n",
            "8        76  (2012)   82 min     5.6    326       135     1934     1175   \n",
            "...     ...     ...      ...     ...    ...       ...      ...      ...   \n",
            "15493  5380  (2015)  115 min     6.1    408      1223     1861     1801   \n",
            "15494  5381  (2001)  153 min     6.2  1,496      2059      763     1619   \n",
            "15503  5382  (1989)  125 min     5.8     44      1793      406      754   \n",
            "15505  5384  (1999)  129 min     4.5    655      1025      112     2164   \n",
            "15508  5383  (1998)  130 min     6.2     20       895      468      753   \n",
            "\n",
            "       Actor 3  Genre_1  Genre_2  Genre_3  \n",
            "1          319       17        0        0  \n",
            "3         2148       14       14        0  \n",
            "5         2045       14        6       12  \n",
            "6         2524       17       14       19  \n",
            "8         1013        3       13       18  \n",
            "...        ...      ...      ...      ...  \n",
            "15493     1615       17        0        0  \n",
            "15494     1184       13        6        9  \n",
            "15503     1685        0        5        6  \n",
            "15505      314        0        6        0  \n",
            "15508      303        0        6        0  \n",
            "\n",
            "[5659 rows x 12 columns]\n"
          ]
        }
      ]
    },
    {
      "cell_type": "code",
      "source": [
        "\n",
        "numerical_columns = read_data_with_genres.select_dtypes(include=['int', 'float']).columns\n",
        "\n",
        "print(numerical_columns)\n"
      ],
      "metadata": {
        "colab": {
          "base_uri": "https://localhost:8080/"
        },
        "id": "Y_CsrcdN8r43",
        "outputId": "5a80f76b-f503-4c51-846b-40d475af950e"
      },
      "execution_count": null,
      "outputs": [
        {
          "output_type": "stream",
          "name": "stdout",
          "text": [
            "Index(['Name', 'Rating', 'Director', 'Actor 1', 'Actor 2', 'Actor 3',\n",
            "       'Genre_1', 'Genre_2', 'Genre_3'],\n",
            "      dtype='object')\n"
          ]
        }
      ]
    },
    {
      "cell_type": "code",
      "source": [
        "from sklearn.preprocessing import StandardScaler\n",
        "\n",
        "\n",
        "\n",
        "numerical_columns = ['Name', 'Rating', 'Director', 'Actor 1', 'Actor 2', 'Actor 3',\n",
        "       'Genre_1', 'Genre_2', 'Genre_3']\n",
        "\n",
        "scaler = StandardScaler()\n",
        "\n",
        "\n",
        "read_data_with_genres[numerical_columns] = scaler.fit_transform(read_data_with_genres[numerical_columns])\n",
        "\n",
        "print(read_data_with_genres)\n"
      ],
      "metadata": {
        "colab": {
          "base_uri": "https://localhost:8080/"
        },
        "id": "eIGOkY9e-EVy",
        "outputId": "2c50d89c-e750-429f-ed53-1de75d955da2"
      },
      "execution_count": null,
      "outputs": [
        {
          "output_type": "stream",
          "name": "stdout",
          "text": [
            "           Name    Year Duration    Rating  Votes  Director   Actor 1  \\\n",
            "1     -1.724458  (2019)  109 min  0.797561      8 -0.848868  0.681672   \n",
            "3     -1.723815  (2019)  110 min -1.085074     35  0.179330  0.409029   \n",
            "5     -1.722527  (1997)  147 min -0.867846    827  0.463323 -1.042707   \n",
            "6     -1.721884  (2005)  142 min  1.087198  1,086  1.211898 -0.486798   \n",
            "8     -1.675544  (2012)   82 min -0.216165    326 -1.568316  1.712051   \n",
            "...         ...     ...      ...       ...    ...       ...       ...   \n",
            "15493  1.738162  (2015)  115 min  0.145880    408  0.016217  1.582811   \n",
            "15494  1.738805  (2001)  153 min  0.218289  1,496  1.233743 -0.361099   \n",
            "15503  1.739449  (1989)  125 min -0.071347     44  0.846349 -0.993136   \n",
            "15505  1.740736  (1999)  129 min -1.012664    655 -0.272145 -1.513636   \n",
            "15508  1.740092  (1998)  130 min  0.218289     20 -0.461473 -0.883370   \n",
            "\n",
            "        Actor 2   Actor 3   Genre_1   Genre_2   Genre_3  \n",
            "1      1.633592 -1.329341  0.953264 -1.117595 -0.726658  \n",
            "3     -0.695529  1.210996  0.545679  1.589385 -0.726658  \n",
            "5     -1.661372  1.067937  0.545679  0.042539  1.149896  \n",
            "6     -0.106125  1.733230  0.953264  1.589385  2.244553  \n",
            "8     -0.011640 -0.365430 -0.948799  1.396029  2.088174  \n",
            "...         ...       ...       ...       ...       ...  \n",
            "15493  0.927207  0.470701  0.953264 -1.117595 -0.726658  \n",
            "15494  0.654251 -0.127924  0.409818  0.042539  0.680758  \n",
            "15503 -0.643038  0.567925 -1.356384 -0.150817  0.211619  \n",
            "15505  1.471618 -1.336286 -1.356384  0.042539 -0.726658  \n",
            "15508 -0.644537 -1.351564 -1.356384  0.042539 -0.726658  \n",
            "\n",
            "[5659 rows x 12 columns]\n"
          ]
        }
      ]
    },
    {
      "cell_type": "code",
      "source": [
        "\n",
        "feature_names = read_data_with_genres.columns.tolist()\n",
        "\n",
        "\n",
        "print(\"Feature Names:\")\n",
        "for feature in feature_names:\n",
        "    print(feature)\n"
      ],
      "metadata": {
        "colab": {
          "base_uri": "https://localhost:8080/"
        },
        "id": "s2qls70d_C5D",
        "outputId": "7d797d5f-a113-4873-89e1-34ecea0cfe8f"
      },
      "execution_count": null,
      "outputs": [
        {
          "output_type": "stream",
          "name": "stdout",
          "text": [
            "Feature Names:\n",
            "Name\n",
            "Year\n",
            "Duration\n",
            "Rating\n",
            "Votes\n",
            "Director\n",
            "Actor 1\n",
            "Actor 2\n",
            "Actor 3\n",
            "Genre_1\n",
            "Genre_2\n",
            "Genre_3\n"
          ]
        }
      ]
    },
    {
      "cell_type": "code",
      "source": [
        "\n",
        "read_data_with_genres['Year'] = read_data_with_genres['Year'].str.extract('(\\d+)').astype(int)\n"
      ],
      "metadata": {
        "id": "x7iOhQCJAGUD"
      },
      "execution_count": null,
      "outputs": []
    },
    {
      "cell_type": "code",
      "source": [
        "\n",
        "read_data_with_genres['Duration'] = read_data_with_genres['Duration'].str.extract('(\\d+)').astype(float)\n"
      ],
      "metadata": {
        "id": "tqef53eLBELE"
      },
      "execution_count": null,
      "outputs": []
    },
    {
      "cell_type": "code",
      "source": [
        "\n",
        "read_data_with_genres['Votes'] = pd.to_numeric(read_data_with_genres['Votes'], errors='coerce')\n",
        "\n",
        "\n",
        "read_data_with_genres['Votes'].fillna(0, inplace=True)\n"
      ],
      "metadata": {
        "id": "wLMPNMIRBivG"
      },
      "execution_count": null,
      "outputs": []
    },
    {
      "cell_type": "code",
      "source": [
        "from sklearn.model_selection import train_test_split\n",
        "from sklearn.ensemble import RandomForestRegressor\n",
        "\n",
        "X = read_data_with_genres.drop(columns=['Rating'])\n",
        "y = read_data_with_genres['Rating']\n",
        "\n",
        "X_train, X_test, y_train, y_test = train_test_split(X, y, test_size=0.4, random_state=42)\n",
        "\n",
        "rf = RandomForestRegressor()\n",
        "\n",
        "\n",
        "rf.fit(X_train, y_train)\n",
        "\n",
        "predictions = rf.predict(X_test)\n",
        "\n",
        "\n",
        "from sklearn.metrics import mean_absolute_error\n",
        "mae = mean_absolute_error(y_test, predictions)\n",
        "print(\"Mean Absolute Error:\", mae)\n"
      ],
      "metadata": {
        "colab": {
          "base_uri": "https://localhost:8080/"
        },
        "id": "cI_viAFeAukS",
        "outputId": "2482149d-f5bb-4439-fb48-b522a4ee759c"
      },
      "execution_count": null,
      "outputs": [
        {
          "output_type": "stream",
          "name": "stdout",
          "text": [
            "Mean Absolute Error: 0.6405759411300322\n"
          ]
        }
      ]
    },
    {
      "cell_type": "code",
      "source": [
        "\n",
        "linear_reg_model = LinearRegression()\n",
        "random_forest_model = RandomForestRegressor()\n",
        "gradient_boosting_model = GradientBoostingRegressor()\n",
        "\n",
        "\n",
        "linear_reg_model.fit(X_train, y_train)\n",
        "random_forest_model.fit(X_train, y_train)\n",
        "gradient_boosting_model.fit(X_train, y_train)"
      ],
      "metadata": {
        "colab": {
          "base_uri": "https://localhost:8080/",
          "height": 74
        },
        "id": "Mr-Qow8vCXrs",
        "outputId": "efc3704f-5aea-4554-e49d-9805bcd3ff53"
      },
      "execution_count": null,
      "outputs": [
        {
          "output_type": "execute_result",
          "data": {
            "text/plain": [
              "GradientBoostingRegressor()"
            ],
            "text/html": [
              "<style>#sk-container-id-1 {color: black;background-color: white;}#sk-container-id-1 pre{padding: 0;}#sk-container-id-1 div.sk-toggleable {background-color: white;}#sk-container-id-1 label.sk-toggleable__label {cursor: pointer;display: block;width: 100%;margin-bottom: 0;padding: 0.3em;box-sizing: border-box;text-align: center;}#sk-container-id-1 label.sk-toggleable__label-arrow:before {content: \"▸\";float: left;margin-right: 0.25em;color: #696969;}#sk-container-id-1 label.sk-toggleable__label-arrow:hover:before {color: black;}#sk-container-id-1 div.sk-estimator:hover label.sk-toggleable__label-arrow:before {color: black;}#sk-container-id-1 div.sk-toggleable__content {max-height: 0;max-width: 0;overflow: hidden;text-align: left;background-color: #f0f8ff;}#sk-container-id-1 div.sk-toggleable__content pre {margin: 0.2em;color: black;border-radius: 0.25em;background-color: #f0f8ff;}#sk-container-id-1 input.sk-toggleable__control:checked~div.sk-toggleable__content {max-height: 200px;max-width: 100%;overflow: auto;}#sk-container-id-1 input.sk-toggleable__control:checked~label.sk-toggleable__label-arrow:before {content: \"▾\";}#sk-container-id-1 div.sk-estimator input.sk-toggleable__control:checked~label.sk-toggleable__label {background-color: #d4ebff;}#sk-container-id-1 div.sk-label input.sk-toggleable__control:checked~label.sk-toggleable__label {background-color: #d4ebff;}#sk-container-id-1 input.sk-hidden--visually {border: 0;clip: rect(1px 1px 1px 1px);clip: rect(1px, 1px, 1px, 1px);height: 1px;margin: -1px;overflow: hidden;padding: 0;position: absolute;width: 1px;}#sk-container-id-1 div.sk-estimator {font-family: monospace;background-color: #f0f8ff;border: 1px dotted black;border-radius: 0.25em;box-sizing: border-box;margin-bottom: 0.5em;}#sk-container-id-1 div.sk-estimator:hover {background-color: #d4ebff;}#sk-container-id-1 div.sk-parallel-item::after {content: \"\";width: 100%;border-bottom: 1px solid gray;flex-grow: 1;}#sk-container-id-1 div.sk-label:hover label.sk-toggleable__label {background-color: #d4ebff;}#sk-container-id-1 div.sk-serial::before {content: \"\";position: absolute;border-left: 1px solid gray;box-sizing: border-box;top: 0;bottom: 0;left: 50%;z-index: 0;}#sk-container-id-1 div.sk-serial {display: flex;flex-direction: column;align-items: center;background-color: white;padding-right: 0.2em;padding-left: 0.2em;position: relative;}#sk-container-id-1 div.sk-item {position: relative;z-index: 1;}#sk-container-id-1 div.sk-parallel {display: flex;align-items: stretch;justify-content: center;background-color: white;position: relative;}#sk-container-id-1 div.sk-item::before, #sk-container-id-1 div.sk-parallel-item::before {content: \"\";position: absolute;border-left: 1px solid gray;box-sizing: border-box;top: 0;bottom: 0;left: 50%;z-index: -1;}#sk-container-id-1 div.sk-parallel-item {display: flex;flex-direction: column;z-index: 1;position: relative;background-color: white;}#sk-container-id-1 div.sk-parallel-item:first-child::after {align-self: flex-end;width: 50%;}#sk-container-id-1 div.sk-parallel-item:last-child::after {align-self: flex-start;width: 50%;}#sk-container-id-1 div.sk-parallel-item:only-child::after {width: 0;}#sk-container-id-1 div.sk-dashed-wrapped {border: 1px dashed gray;margin: 0 0.4em 0.5em 0.4em;box-sizing: border-box;padding-bottom: 0.4em;background-color: white;}#sk-container-id-1 div.sk-label label {font-family: monospace;font-weight: bold;display: inline-block;line-height: 1.2em;}#sk-container-id-1 div.sk-label-container {text-align: center;}#sk-container-id-1 div.sk-container {/* jupyter's `normalize.less` sets `[hidden] { display: none; }` but bootstrap.min.css set `[hidden] { display: none !important; }` so we also need the `!important` here to be able to override the default hidden behavior on the sphinx rendered scikit-learn.org. See: https://github.com/scikit-learn/scikit-learn/issues/21755 */display: inline-block !important;position: relative;}#sk-container-id-1 div.sk-text-repr-fallback {display: none;}</style><div id=\"sk-container-id-1\" class=\"sk-top-container\"><div class=\"sk-text-repr-fallback\"><pre>GradientBoostingRegressor()</pre><b>In a Jupyter environment, please rerun this cell to show the HTML representation or trust the notebook. <br />On GitHub, the HTML representation is unable to render, please try loading this page with nbviewer.org.</b></div><div class=\"sk-container\" hidden><div class=\"sk-item\"><div class=\"sk-estimator sk-toggleable\"><input class=\"sk-toggleable__control sk-hidden--visually\" id=\"sk-estimator-id-1\" type=\"checkbox\" checked><label for=\"sk-estimator-id-1\" class=\"sk-toggleable__label sk-toggleable__label-arrow\">GradientBoostingRegressor</label><div class=\"sk-toggleable__content\"><pre>GradientBoostingRegressor()</pre></div></div></div></div></div>"
            ]
          },
          "metadata": {},
          "execution_count": 71
        }
      ]
    },
    {
      "cell_type": "code",
      "source": [
        "\n",
        "linear_reg_preds = linear_reg_model.predict(X_test)\n",
        "random_forest_preds = random_forest_model.predict(X_test)\n",
        "gradient_boosting_preds = gradient_boosting_model.predict(X_test)\n",
        "\n",
        "linear_reg_mae = mean_absolute_error(y_test, linear_reg_preds)\n",
        "random_forest_mae = mean_absolute_error(y_test, random_forest_preds)\n",
        "gradient_boosting_mae = mean_absolute_error(y_test, gradient_boosting_preds)\n",
        "\n",
        "print(\"Mean Absolute Error (Linear Regression):\", linear_reg_mae)\n",
        "print(\"Mean Absolute Error (Random Forest Regression):\", random_forest_mae)\n",
        "print(\"Mean Absolute Error (Gradient Boosting Regression):\", gradient_boosting_mae)"
      ],
      "metadata": {
        "colab": {
          "base_uri": "https://localhost:8080/"
        },
        "id": "oYw4FUloDBeI",
        "outputId": "cf10b845-e502-49b5-94b6-98393dde2db7"
      },
      "execution_count": null,
      "outputs": [
        {
          "output_type": "stream",
          "name": "stdout",
          "text": [
            "Mean Absolute Error (Linear Regression): 0.7509731933561644\n",
            "Mean Absolute Error (Random Forest Regression): 0.6403977969907719\n",
            "Mean Absolute Error (Gradient Boosting Regression): 0.6415685004138016\n"
          ]
        }
      ]
    },
    {
      "cell_type": "code",
      "source": [
        "\n",
        "param_grid = {\n",
        "    'n_estimators': [50, 100, 200],\n",
        "    'learning_rate': [0.01, 0.1, 0.5],\n",
        "    'max_depth': [3, 4, 5]\n",
        "}\n",
        "\n",
        "gb_regressor = GradientBoostingRegressor()\n",
        "\n",
        "grid_search = GridSearchCV(gb_regressor, param_grid, cv=5, scoring='neg_mean_absolute_error', verbose=1)\n",
        "\n",
        "\n",
        "grid_search.fit(X_train, y_train)\n",
        "\n",
        "\n",
        "print(\"Best Hyperparameters:\", grid_search.best_params_)\n",
        "\n",
        "best_gb_regressor = grid_search.best_estimator_\n",
        "\n",
        "y_pred = best_gb_regressor.predict(X_test)\n",
        "\n",
        "mae = mean_absolute_error(y_test, y_pred)\n",
        "print(\"Mean Absolute Error (Best Gradient Boosting Regression):\", mae)"
      ],
      "metadata": {
        "colab": {
          "base_uri": "https://localhost:8080/"
        },
        "id": "PMhmG4UyDmwz",
        "outputId": "ac8ac355-7907-4a77-9879-93b463a9f8b6"
      },
      "execution_count": null,
      "outputs": [
        {
          "output_type": "stream",
          "name": "stdout",
          "text": [
            "Fitting 5 folds for each of 27 candidates, totalling 135 fits\n",
            "Best Hyperparameters: {'learning_rate': 0.1, 'max_depth': 3, 'n_estimators': 200}\n",
            "Mean Absolute Error (Best Gradient Boosting Regression): 0.6309004895908842\n"
          ]
        }
      ]
    },
    {
      "cell_type": "code",
      "source": [
        "\n",
        "y_pred_test = best_gb_regressor.predict(X_test)\n",
        "\n",
        "mae_test = mean_absolute_error(y_test, y_pred_test)\n",
        "print(\"Mean Absolute Error on Testing Data:\", mae_test)\n",
        "\n"
      ],
      "metadata": {
        "colab": {
          "base_uri": "https://localhost:8080/"
        },
        "id": "aIh5uduXF6cg",
        "outputId": "80e6d382-4c02-4fbd-b21f-a16c13f45f81"
      },
      "execution_count": null,
      "outputs": [
        {
          "output_type": "stream",
          "name": "stdout",
          "text": [
            "Mean Absolute Error on Testing Data: 0.6309004895908842\n"
          ]
        }
      ]
    },
    {
      "cell_type": "code",
      "source": [
        "\n",
        "plt.figure(figsize=(8, 6))\n",
        "plt.scatter(y_test, y_pred_test, color='blue', alpha=0.5)\n",
        "plt.plot([min(y_test), max(y_test)], [min(y_test), max(y_test)], color='red', linestyle='--')\n",
        "plt.xlabel('Actual Values')\n",
        "plt.ylabel('Predicted Values')\n",
        "plt.title('Actual vs. Predicted Values (Testing Data)')\n",
        "plt.show()"
      ],
      "metadata": {
        "colab": {
          "base_uri": "https://localhost:8080/",
          "height": 564
        },
        "id": "w4AlR-y9GWJ4",
        "outputId": "ea70003e-3882-4b24-9317-da713debb03c"
      },
      "execution_count": null,
      "outputs": [
        {
          "output_type": "display_data",
          "data": {
            "text/plain": [
              "<Figure size 800x600 with 1 Axes>"
            ],
            "image/png": "[encoded data removed]"
          },
          "metadata": {}
        }
      ]
    },
    {
      "cell_type": "code",
      "source": [
        "\n",
        "plt.hist(read_data_with_genres['Year'], bins=20, color='skyblue', edgecolor='black')\n",
        "plt.xlabel('Year')\n",
        "plt.ylabel('Frequency')\n",
        "plt.title('Distribution of Movies Over Years')\n",
        "plt.show()\n"
      ],
      "metadata": {
        "colab": {
          "base_uri": "https://localhost:8080/",
          "height": 472
        },
        "id": "yHCA1U_7G4hL",
        "outputId": "536e8965-bc68-463d-cbe3-5dd8a8eb5df6"
      },
      "execution_count": null,
      "outputs": [
        {
          "output_type": "display_data",
          "data": {
            "text/plain": [
              "<Figure size 640x480 with 1 Axes>"
            ],
            "image/png": "[encoded data removed]"
          },
          "metadata": {}
        }
      ]
    },
    {
      "cell_type": "code",
      "source": [
        "\n",
        "mae_lr = 0.7509731933561644\n",
        "mae_rf = 0.6403977969907719\n",
        "mae_gb = 0.6415685004138016\n",
        "\n",
        "accuracy_lr = 100 - mae_lr\n",
        "accuracy_rf = 100 - mae_rf\n",
        "accuracy_gb = 100 - mae_gb\n",
        "\n",
        "\n",
        "print(\"Accuracy Percentage (Linear Regression): {:.2f}%\".format(accuracy_lr))\n",
        "print(\"Accuracy Percentage (Random Forest Regression): {:.2f}%\".format(accuracy_rf))\n",
        "print(\"Accuracy Percentage (Gradient Boosting Regression): {:.2f}%\".format(accuracy_gb))\n"
      ],
      "metadata": {
        "colab": {
          "base_uri": "https://localhost:8080/"
        },
        "id": "S5pP2MuYLPFa",
        "outputId": "f704f95e-a78e-481f-e9e6-2fb1461f9799"
      },
      "execution_count": null,
      "outputs": [
        {
          "output_type": "stream",
          "name": "stdout",
          "text": [
            "Accuracy Percentage (Linear Regression): 99.25%\n",
            "Accuracy Percentage (Random Forest Regression): 99.36%\n",
            "Accuracy Percentage (Gradient Boosting Regression): 99.36%\n"
          ]
        }
      ]
    },
    {
      "cell_type": "code",
      "source": [
        "!apt-get install git\n"
      ],
      "metadata": {
        "id": "H68aVZApSS9B",
        "colab": {
          "base_uri": "https://localhost:8080/"
        },
        "outputId": "98c3f1e7-9112-4fe9-bb5b-7a40e0dcc511"
      },
      "execution_count": null,
      "outputs": [
        {
          "output_type": "stream",
          "name": "stdout",
          "text": [
            "Reading package lists... Done\n",
            "Building dependency tree... Done\n",
            "Reading state information... Done\n",
            "git is already the newest version (1:2.34.1-1ubuntu1.10).\n",
            "0 upgraded, 0 newly installed, 0 to remove and 45 not upgraded.\n"
          ]
        }
      ]
    },
    {
      "cell_type": "code",
      "source": [
        "!git config --global user.email \"har.sur.rt21@dypatil.edu\"\n",
        "!git config --global user.name \"harshysyrup\"\n"
      ],
      "metadata": {
        "id": "4mjDIPqoj3-5"
      },
      "execution_count": null,
      "outputs": []
    },
    {
      "cell_type": "code",
      "source": [
        "!git clone https://github.com/harshysyrup/CODSOFT.git\n"
      ],
      "metadata": {
        "colab": {
          "base_uri": "https://localhost:8080/"
        },
        "id": "MHLh4mT-kS7a",
        "outputId": "12bcab80-4396-4b0c-feef-c7fbd6d436bd"
      },
      "execution_count": null,
      "outputs": [
        {
          "output_type": "stream",
          "name": "stdout",
          "text": [
            "Cloning into 'CODSOFT'...\n",
            "warning: You appear to have cloned an empty repository.\n"
          ]
        }
      ]
    }
  ]
}